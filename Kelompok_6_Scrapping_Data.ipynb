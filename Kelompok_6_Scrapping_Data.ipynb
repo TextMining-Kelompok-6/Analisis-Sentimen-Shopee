{
  "nbformat": 4,
  "nbformat_minor": 0,
  "metadata": {
    "colab": {
      "provenance": []
    },
    "kernelspec": {
      "name": "python3",
      "display_name": "Python 3"
    },
    "language_info": {
      "name": "python"
    }
  },
  "cells": [
    {
      "cell_type": "code",
      "execution_count": null,
      "metadata": {
        "colab": {
          "base_uri": "https://localhost:8080/"
        },
        "id": "oIc6Msv6Go_Z",
        "outputId": "dd7edde3-f580-4dd2-e0f9-9440ba24ec54"
      },
      "outputs": [
        {
          "output_type": "stream",
          "name": "stdout",
          "text": [
            "Requirement already satisfied: google_play_scraper in /usr/local/lib/python3.11/dist-packages (1.2.7)\n"
          ]
        }
      ],
      "source": [
        "!pip install google_play_scraper"
      ]
    },
    {
      "cell_type": "code",
      "source": [
        "from google_play_scraper import reviews, Sort\n",
        "import pandas as pd"
      ],
      "metadata": {
        "id": "InRqDoxVKZMW"
      },
      "execution_count": null,
      "outputs": []
    },
    {
      "cell_type": "code",
      "source": [
        "# Nama paket aplikasi yang ingin di-scrape\n",
        "app_id = \"com.shopee.id\"\n",
        "\n",
        "# Mengambil 30.000 ulasan\n",
        "result, _ = reviews(\n",
        "    app_id,\n",
        "    lang='id',  # Bahasa Indonesia\n",
        "    country='id',  # Lokasi Indonesia\n",
        "    sort=Sort.NEWEST,\n",
        "    count=30000  # Jumlah ulasan\n",
        ")"
      ],
      "metadata": {
        "id": "F7-lEVJbKkpv"
      },
      "execution_count": null,
      "outputs": []
    },
    {
      "cell_type": "code",
      "source": [
        "# Menyimpan hasil scrap ke dalam file csv\n",
        "data = pd.DataFrame(result)\n",
        "data.to_csv(\"shopee_reviews.csv\", index=False)\n",
        "print(\"Scraping selesai! Data tersimpan di 'playstore_reviews.csv'\")"
      ],
      "metadata": {
        "colab": {
          "base_uri": "https://localhost:8080/"
        },
        "id": "FGmh61tKK0CG",
        "outputId": "ab6ab76d-f140-43d1-a4e0-b2e1a3916ee0"
      },
      "execution_count": null,
      "outputs": [
        {
          "output_type": "stream",
          "name": "stdout",
          "text": [
            "Scraping selesai! Data tersimpan di 'playstore_reviews.csv'\n"
          ]
        }
      ]
    }
  ]
}